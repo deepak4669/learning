{
 "cells": [
  {
   "cell_type": "markdown",
   "metadata": {},
   "source": [
    "# Linear Algebra"
   ]
  },
  {
   "cell_type": "markdown",
   "metadata": {},
   "source": [
    "# Basics"
   ]
  },
  {
   "cell_type": "markdown",
   "metadata": {},
   "source": [
    "* **Scalars:** These are just the single numbers.\n",
    "* **Vectors:** These are 1D array of numbers or list of numbers. Indexing a set of elements of a vector:\n",
    "\n",
    "We define a set containing the indices and write the set as the subscript. For example: S={1,3,6} x(subscript S) will be a \n",
    "vector containing elements x1, x3, x6 of the original vector x. \n",
    "\"-\" infront of a set subscript indicates complement of that set. x(subscript -S) will contain all the elements of x except for the x1, x3 and x6.\n",
    "\n",
    "* **Matrices:** 2D array of numbers. To indicate the whole row of a matrix we indicate by A<sub><i,:></sub>, for indicating the ith column we use A<sub><:,i></sub>.\n",
    "* **Tensors:** The array of numbers with variable number of axes.  \n",
    "    \n",
    "**Transpose** is an operation defined over matrices. The transpose of a matrix is defined as the mirror image of the matrix across its *main diagonal* which runs through upper left corner to down right corner.\n",
    "    \n",
    "* **x**=[x1,x2,x3]<sup>T</sup>\n",
    "* a<sup>T</sup>=a where a is a scaler\n",
    "    \n",
    "Addition of matrices is possible upto a limit when the two matrices involves have the same size.\n",
    "    \n",
    "**Broadcasting:** The implicit copying of certain vector in many places of a matrix.\n"
   ]
  },
  {
   "cell_type": "code",
   "execution_count": 9,
   "metadata": {},
   "outputs": [
    {
     "name": "stdout",
     "output_type": "stream",
     "text": [
      "torch.Size([2, 3])\n",
      "tensor([[1, 2, 3],\n",
      "        [4, 5, 6]])\n",
      "tensor([[2, 4, 6],\n",
      "        [5, 7, 9]])\n"
     ]
    }
   ],
   "source": [
    "import torch\n",
    "\n",
    "a=torch.tensor([[1,2,3],[4,5,6]])\n",
    "print(a.shape)\n",
    "print(a)\n",
    "b=torch.tensor([1,2,3])\n",
    "print(a+b) # Broadcasting of vector b to various rows of a."
   ]
  },
  {
   "cell_type": "markdown",
   "metadata": {},
   "source": [
    "The **Matrix Product** between two matrices A and B is a matrix C. The number of columns in A must be equal to number of rows in matrix B. \n",
    "The **Hadamard Product** is the element wise product between two matrix and is denoted by circle with a dot inside.\n",
    "\n",
    "**Properties of Matrix Product**\n",
    "\n",
    "* **Distributive:** A(B+C)=AB+BC\n",
    "* **Associative:** A(BC)=(AB)C\n",
    "* **Not Commutative:** AB not equal to BA\n",
    "* (AB)<sup>T</sup>=B<sup>T</sup>A<sup>T</sup> \n",
    "* Vector dot product's is scalar and therefore x<sup>T</sup>y=y<sup>T</sup>x\n"
   ]
  },
  {
   "cell_type": "markdown",
   "metadata": {},
   "source": [
    "An **Identity Matrix** is the matrix that does not change the vector when we multiply that matrix with that vector. I<sub>n</sub>x=x for all x in R<sup>n</sup>.\n",
    "\n",
    "The **matrix inverse** of A defined as A<sup>-1</sup> and is defined as the matrix which holds: A<sup>-1</sup>A=I<sub>n</sub>.\n"
   ]
  },
  {
   "cell_type": "code",
   "execution_count": null,
   "metadata": {},
   "outputs": [],
   "source": []
  }
 ],
 "metadata": {
  "kernelspec": {
   "display_name": "Python 3",
   "language": "python",
   "name": "python3"
  },
  "language_info": {
   "codemirror_mode": {
    "name": "ipython",
    "version": 3
   },
   "file_extension": ".py",
   "mimetype": "text/x-python",
   "name": "python",
   "nbconvert_exporter": "python",
   "pygments_lexer": "ipython3",
   "version": "3.7.6"
  }
 },
 "nbformat": 4,
 "nbformat_minor": 4
}
